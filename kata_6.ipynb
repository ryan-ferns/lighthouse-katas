{
 "cells": [
  {
   "cell_type": "code",
   "execution_count": 30,
   "metadata": {},
   "outputs": [],
   "source": [
    "def whereCanIPark(spots, vehicle):\n",
    "    \"\"\"Returns the coordinates of an available parking spot for the vehicle or returns false if there is no available spot.\"\"\"\n",
    "    if vehicle == 'regular':\n",
    "        for i in range(len(spots)):\n",
    "            for j in range(len(spots[i])):\n",
    "                if spots[i][j] == 'R':\n",
    "                    return [j, i]\n",
    "        else:\n",
    "            return False            \n",
    "    elif vehicle == 'small':\n",
    "        for i in range(len(spots)):\n",
    "            for j in range(len(spots[i])):\n",
    "                if spots[i][j] == 'S':\n",
    "                    return [j, i]\n",
    "        for i in range(len(spots)):\n",
    "            for j in range(len(spots[i])):\n",
    "                if spots[i][j] == 'R':\n",
    "                    return [j, i]\n",
    "        else:\n",
    "            return False  \n",
    "    else:\n",
    "        for i in range(len(spots)):\n",
    "            for j in range(len(spots[i])):\n",
    "                if spots[i][j] == 'M':\n",
    "                    return [j, i]\n",
    "        for i in range(len(spots)):\n",
    "            for j in range(len(spots[i])):\n",
    "                if spots[i][j] == 'S':\n",
    "                    return [j, i]\n",
    "        for i in range(len(spots)):\n",
    "            for j in range(len(spots[i])):\n",
    "                if spots[i][j] == 'R':\n",
    "                    return [j, i]\n",
    "        else:\n",
    "            return False  \n",
    "    \n",
    "    "
   ]
  },
  {
   "cell_type": "code",
   "execution_count": 31,
   "metadata": {},
   "outputs": [
    {
     "name": "stdout",
     "output_type": "stream",
     "text": [
      "[4, 0]\n"
     ]
    }
   ],
   "source": [
    "print(whereCanIPark(\n",
    "  [\n",
    "    # COLUMNS ARE X\n",
    "    # 0    1    2    3    4    5\n",
    "    ['s', 's', 's', 'S', 'R', 'M'], # 0 ROWS ARE Y\n",
    "    ['s', 'M', 's', 'S', 'r', 'M'], # 1\n",
    "    ['s', 'M', 's', 'S', 'r', 'm'], # 2\n",
    "    ['S', 'r', 's', 'm', 'r', 'M'], # 3\n",
    "    ['S', 'r', 's', 'm', 'r', 'M'], # 4\n",
    "    ['S', 'r', 'S', 'M', 'M', 'S']  # 5\n",
    "  ],\n",
    "  'regular'\n",
    "))"
   ]
  },
  {
   "cell_type": "code",
   "execution_count": 32,
   "metadata": {},
   "outputs": [
    {
     "name": "stdout",
     "output_type": "stream",
     "text": [
      "False\n"
     ]
    }
   ],
   "source": [
    "print(whereCanIPark(\n",
    "  [\n",
    "    ['M', 'M', 'M', 'M'],\n",
    "    ['M', 's', 'M', 'M'],\n",
    "    ['M', 'M', 'M', 'M'],\n",
    "    ['M', 'M', 'r', 'M']\n",
    "  ],\n",
    "  'small'\n",
    "))"
   ]
  },
  {
   "cell_type": "code",
   "execution_count": 33,
   "metadata": {},
   "outputs": [
    {
     "name": "stdout",
     "output_type": "stream",
     "text": [
      "[3, 5]\n"
     ]
    }
   ],
   "source": [
    "print(whereCanIPark(\n",
    "  [\n",
    "    ['s', 's', 's', 's', 's', 's'],\n",
    "    ['s', 'm', 's', 'S', 'r', 's'],\n",
    "    ['s', 'm', 's', 'S', 'r', 's'],\n",
    "    ['S', 'r', 's', 'm', 'r', 's'],\n",
    "    ['S', 'r', 's', 'm', 'R', 's'],\n",
    "    ['S', 'r', 'S', 'M', 'm', 'S']\n",
    "  ],\n",
    "  'motorcycle'\n",
    "))"
   ]
  },
  {
   "cell_type": "code",
   "execution_count": null,
   "metadata": {},
   "outputs": [],
   "source": []
  }
 ],
 "metadata": {
  "kernelspec": {
   "display_name": "Python 3",
   "language": "python",
   "name": "python3"
  },
  "language_info": {
   "codemirror_mode": {
    "name": "ipython",
    "version": 3
   },
   "file_extension": ".py",
   "mimetype": "text/x-python",
   "name": "python",
   "nbconvert_exporter": "python",
   "pygments_lexer": "ipython3",
   "version": "3.8.3"
  }
 },
 "nbformat": 4,
 "nbformat_minor": 4
}
