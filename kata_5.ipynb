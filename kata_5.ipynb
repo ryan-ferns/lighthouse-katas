{
 "cells": [
  {
   "cell_type": "code",
   "execution_count": 14,
   "metadata": {},
   "outputs": [],
   "source": [
    "def urlEncode(text):\n",
    "    \"\"\"Returns a string with all of the whitespace characters converted to %20.\"\"\"\n",
    "    l = len(text)\n",
    "    while text.startswith(' ') == True:\n",
    "        text = text[1 : ]\n",
    "    while text.endswith(' ') == True:\n",
    "        text = text[: -1]\n",
    "    if text == '':\n",
    "        return l * '%20'\n",
    "    else:\n",
    "        letters = [text[i] for i in range(len(text))]\n",
    "        for i in range(len(letters)):\n",
    "            if letters[i] == ' ':\n",
    "                letters[i] = '%20'\n",
    "        newtext = ''\n",
    "        for i in range(len(letters)):\n",
    "                       newtext += letters[i]\n",
    "    \n",
    "    return newtext\n",
    "        "
   ]
  },
  {
   "cell_type": "code",
   "execution_count": 15,
   "metadata": {},
   "outputs": [
    {
     "name": "stdout",
     "output_type": "stream",
     "text": [
      "Lighthouse%20Labs\n"
     ]
    }
   ],
   "source": [
    "print(urlEncode(\"Lighthouse Labs\"))"
   ]
  },
  {
   "cell_type": "code",
   "execution_count": 16,
   "metadata": {},
   "outputs": [
    {
     "name": "stdout",
     "output_type": "stream",
     "text": [
      "Lighthouse%20Labs\n"
     ]
    }
   ],
   "source": [
    "print(urlEncode(\" Lighthouse Labs  \"))"
   ]
  },
  {
   "cell_type": "code",
   "execution_count": 18,
   "metadata": {},
   "outputs": [
    {
     "name": "stdout",
     "output_type": "stream",
     "text": [
      "blue%20is%20greener%20than%20purple%20for%20sure\n"
     ]
    }
   ],
   "source": [
    "print(urlEncode(\"blue is greener than purple for sure\"))"
   ]
  },
  {
   "cell_type": "code",
   "execution_count": null,
   "metadata": {},
   "outputs": [],
   "source": []
  }
 ],
 "metadata": {
  "kernelspec": {
   "display_name": "Python 3",
   "language": "python",
   "name": "python3"
  },
  "language_info": {
   "codemirror_mode": {
    "name": "ipython",
    "version": 3
   },
   "file_extension": ".py",
   "mimetype": "text/x-python",
   "name": "python",
   "nbconvert_exporter": "python",
   "pygments_lexer": "ipython3",
   "version": "3.8.3"
  }
 },
 "nbformat": 4,
 "nbformat_minor": 4
}
