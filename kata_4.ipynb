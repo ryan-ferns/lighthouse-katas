{
 "cells": [
  {
   "cell_type": "code",
   "execution_count": 12,
   "metadata": {},
   "outputs": [],
   "source": [
    "def instructorWithLongestName(instructors):\n",
    "    \"\"\"Returns the object with the longest name from a list of instructor dictionaries.\"\"\"\n",
    "    names = [instructors[i]['name'] for i in range(len(instructors))]\n",
    "    lengths = [len(name) for name in names]\n",
    "    l = len(lengths)\n",
    "    for i in range(l):\n",
    "        if lengths[i] == max(lengths):\n",
    "            Longest_index = i\n",
    "            break\n",
    "            \n",
    "    # Longest_index corresponds to the index of names with the longest name \n",
    "    # which also corresponds to the index of the object with the longest name.\n",
    "    \n",
    "    LongestName = instructors[Longest_index]\n",
    "    return LongestName\n",
    "        \n",
    "     \n",
    "\n",
    "\n",
    "    "
   ]
  },
  {
   "cell_type": "code",
   "execution_count": 13,
   "metadata": {},
   "outputs": [
    {
     "name": "stdout",
     "output_type": "stream",
     "text": [
      "{'name': 'Jeremiah', 'course': 'Data'}\n"
     ]
    }
   ],
   "source": [
    "print(instructorWithLongestName([\n",
    "  {'name': \"Samuel\", 'course': \"iOS\"},\n",
    "  {'name': \"Jeremiah\", 'course': \"Data\"},\n",
    "  {'name': \"Ophilia\", 'course': \"Web\"},\n",
    "  {'name': \"Donald\", 'course': \"Web\"}\n",
    "]))"
   ]
  },
  {
   "cell_type": "code",
   "execution_count": 14,
   "metadata": {},
   "outputs": [
    {
     "name": "stdout",
     "output_type": "stream",
     "text": [
      "{'name': 'Domascus', 'course': 'Web'}\n"
     ]
    }
   ],
   "source": [
    "print(instructorWithLongestName([\n",
    "  {'name': \"Matthew\", 'course': \"Data\"},\n",
    "  {'name': \"David\", 'course': \"iOS\"},\n",
    "  {'name': \"Domascus\", 'course': \"Web\"}\n",
    "]))"
   ]
  },
  {
   "cell_type": "code",
   "execution_count": null,
   "metadata": {},
   "outputs": [],
   "source": []
  }
 ],
 "metadata": {
  "kernelspec": {
   "display_name": "Python 3",
   "language": "python",
   "name": "python3"
  },
  "language_info": {
   "codemirror_mode": {
    "name": "ipython",
    "version": 3
   },
   "file_extension": ".py",
   "mimetype": "text/x-python",
   "name": "python",
   "nbconvert_exporter": "python",
   "pygments_lexer": "ipython3",
   "version": "3.8.3"
  }
 },
 "nbformat": 4,
 "nbformat_minor": 4
}
